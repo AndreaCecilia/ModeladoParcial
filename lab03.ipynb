{
 "cells": [
  {
   "cell_type": "markdown",
   "metadata": {},
   "source": [
    "# Parcial 3 Modelado\n",
    "\n",
    "- ### Primer Punto\n",
    "    ### Modelo SIR\n",
    "   \n",
    "    $$\\frac{dS}{dt}=-\\beta \\frac{SI}{N}$$\n",
    "    $$\\frac{dI}{dt}=\\beta \\frac{SI}{N}-\\gamma I$$\n",
    "    $$\\frac{dR}{dt}=\\gamma I$$\n",
    "\n",
    "   "
   ]
  },
  {
   "cell_type": "code",
   "execution_count": 7,
   "metadata": {},
   "outputs": [],
   "source": [
    "import numpy as np\n",
    "from scipy.integrate import odeint\n",
    "import matplotlib.pyplot as plt\n",
    "import pandas as pd\n"
   ]
  },
  {
   "cell_type": "code",
   "execution_count": 8,
   "metadata": {},
   "outputs": [
    {
     "name": "stdout",
     "output_type": "stream",
     "text": [
      "47\n"
     ]
    }
   ],
   "source": [
    "#### Read data ####\n",
    "\n",
    "df = pd.read_csv('./influenza_data.csv')\n",
    "infected = df['AH1']+df['AH3']+df['A_untyped']+df['B']\n",
    "\n",
    "# just B influenza cases\n",
    "infected = df['B']\n",
    "\n",
    "time = df['week']\n",
    "\n",
    "time = time[7:]\n",
    "infected = infected[7:]\n",
    "print(time.iloc[0])"
   ]
  },
  {
   "cell_type": "code",
   "execution_count": 9,
   "metadata": {},
   "outputs": [
    {
     "data": {
      "text/plain": [
       "(None,\n",
       " <matplotlib.legend.Legend at 0x7fefa4e82518>,\n",
       " Text(0.5, 1.0, 'Confirmed B influenza cases'))"
      ]
     },
     "execution_count": 9,
     "metadata": {},
     "output_type": "execute_result"
    },
    {
     "data": {
      "image/png": "[encoded data removed]",
      "text/plain": [
       "<Figure size 432x288 with 1 Axes>"
      ]
     },
     "metadata": {
      "needs_background": "light"
     },
     "output_type": "display_data"
    }
   ],
   "source": [
    "plt.plot(time,infected,'ro',label='Data')\n",
    "plt.xlabel('Week'), plt.ylabel('Incidence')\n",
    "plt.grid(), plt.legend(), plt.title('Confirmed B influenza cases')"
   ]
  },
  {
   "cell_type": "code",
   "execution_count": 35,
   "metadata": {},
   "outputs": [],
   "source": [
    "def SIR_model(state,time,beta,gamma, N):\n",
    "    S, I, R = state\n",
    "    dSdt = -beta*S*I/N\n",
    "    dIdt = beta*S*I/N - gamma*I\n",
    "    dRdt = gamma*I\n",
    "    return [dSdt,dIdt,dRdt]\n",
    "def modelo_sir(N, gamma_mine,Ro, t0):\n",
    "    beta_mine = gamma_mine*Ro \n",
    "    t_span =np.arange(t0,t0*10,1) # daily simulation\n",
    "\n",
    "    # For initial conditions we suppose just 1 person is infected\n",
    "    y0 = [N-1,1,0] #initial conditions \n",
    "    return(odeint(SIR_model, y0, t_span, args=(beta_mine, gamma_mine, N)) )#solve using ODE\n",
    "def proba_Q(xi, miu):\n",
    "    var=5\n",
    "    p = ((1/np.sqrt(var*2*np.pi))*np.exp(-(xi-miu)**2/(2*var)))\n",
    "    return(p)\n",
    "\n",
    "def likelihood(x_data,miu):\n",
    "    l=1\n",
    "    for x in x_data:\n",
    "        l = l * proba_Q(x, miu)\n",
    "    return(l)\n",
    "\n",
    "def funcionverosimilitud(gamma, Ro, t0,N):\n",
    "    y=modelo_sir(N, gamma,Ro, t0) \n",
    "    beta= gamma*Ro \n",
    "    S = y[:,0]\n",
    "    I = y[:,1]\n",
    "    R = y[:,2]\n",
    "\n",
    "    t_span =np.arange(t0,t0*10,1)\n",
    "    kernel  = np.ones(7)\n",
    "    incidente_pred=[]\n",
    "    i=0\n",
    "    while i<len(S)-7:\n",
    "        incidente_pred.append(-(S[i+7]-S[i]))\n",
    "\n",
    "        i=i+7\n",
    "    incidente_pred = np.append(1,incidente_pred)\n",
    "    frac_confirmed = sum(infected)/sum(incidente_pred)\n",
    "    incidente_pred = incidente_pred*frac_confirmed\n",
    "    miu=np.mean(incidente_pred )\n",
    "    l=likelihood(infected,miu)\n",
    "    return(l)\n",
    "\n"
   ]
  },
  {
   "cell_type": "code",
   "execution_count": 36,
   "metadata": {},
   "outputs": [
    {
     "ename": "ValueError",
     "evalue": "The truth value of an array with more than one element is ambiguous. Use a.any() or a.all()",
     "output_type": "error",
     "traceback": [
      "\u001b[0;31m---------------------------------------------------------------------------\u001b[0m",
      "\u001b[0;31mValueError\u001b[0m                                Traceback (most recent call last)",
      "\u001b[0;32m<ipython-input-36-c544550c946f>\u001b[0m in \u001b[0;36m<module>\u001b[0;34m\u001b[0m\n\u001b[1;32m      6\u001b[0m \u001b[0mN\u001b[0m\u001b[0;34m=\u001b[0m \u001b[0;36m5.2e+07\u001b[0m\u001b[0;34m\u001b[0m\u001b[0;34m\u001b[0m\u001b[0m\n\u001b[1;32m      7\u001b[0m \u001b[0mv\u001b[0m\u001b[0;34m=\u001b[0m\u001b[0;34m[\u001b[0m\u001b[0;34m]\u001b[0m\u001b[0;34m\u001b[0m\u001b[0;34m\u001b[0m\u001b[0m\n\u001b[0;32m----> 8\u001b[0;31m \u001b[0mv\u001b[0m\u001b[0;34m.\u001b[0m\u001b[0mappend\u001b[0m\u001b[0;34m(\u001b[0m\u001b[0mfuncionverosimilitud\u001b[0m\u001b[0;34m(\u001b[0m\u001b[0mgamma\u001b[0m\u001b[0;34m,\u001b[0m \u001b[0mRo\u001b[0m\u001b[0;34m,\u001b[0m \u001b[0mt0\u001b[0m\u001b[0;34m,\u001b[0m\u001b[0mN\u001b[0m\u001b[0;34m)\u001b[0m\u001b[0;34m)\u001b[0m\u001b[0;34m\u001b[0m\u001b[0;34m\u001b[0m\u001b[0m\n\u001b[0m",
      "\u001b[0;32m<ipython-input-35-6fd6050064ba>\u001b[0m in \u001b[0;36mfuncionverosimilitud\u001b[0;34m(gamma, Ro, t0, N)\u001b[0m\n\u001b[1;32m     24\u001b[0m \u001b[0;34m\u001b[0m\u001b[0m\n\u001b[1;32m     25\u001b[0m \u001b[0;32mdef\u001b[0m \u001b[0mfuncionverosimilitud\u001b[0m\u001b[0;34m(\u001b[0m\u001b[0mgamma\u001b[0m\u001b[0;34m,\u001b[0m \u001b[0mRo\u001b[0m\u001b[0;34m,\u001b[0m \u001b[0mt0\u001b[0m\u001b[0;34m,\u001b[0m\u001b[0mN\u001b[0m\u001b[0;34m)\u001b[0m\u001b[0;34m:\u001b[0m\u001b[0;34m\u001b[0m\u001b[0;34m\u001b[0m\u001b[0m\n\u001b[0;32m---> 26\u001b[0;31m     \u001b[0my\u001b[0m\u001b[0;34m=\u001b[0m\u001b[0mmodelo_sir\u001b[0m\u001b[0;34m(\u001b[0m\u001b[0mN\u001b[0m\u001b[0;34m,\u001b[0m \u001b[0mgamma\u001b[0m\u001b[0;34m,\u001b[0m\u001b[0mRo\u001b[0m\u001b[0;34m,\u001b[0m \u001b[0mt0\u001b[0m\u001b[0;34m)\u001b[0m\u001b[0;34m\u001b[0m\u001b[0;34m\u001b[0m\u001b[0m\n\u001b[0m\u001b[1;32m     27\u001b[0m     \u001b[0mbeta\u001b[0m\u001b[0;34m=\u001b[0m \u001b[0mgamma\u001b[0m\u001b[0;34m*\u001b[0m\u001b[0mRo\u001b[0m\u001b[0;34m\u001b[0m\u001b[0;34m\u001b[0m\u001b[0m\n\u001b[1;32m     28\u001b[0m     \u001b[0mS\u001b[0m \u001b[0;34m=\u001b[0m \u001b[0my\u001b[0m\u001b[0;34m[\u001b[0m\u001b[0;34m:\u001b[0m\u001b[0;34m,\u001b[0m\u001b[0;36m0\u001b[0m\u001b[0;34m]\u001b[0m\u001b[0;34m\u001b[0m\u001b[0;34m\u001b[0m\u001b[0m\n",
      "\u001b[0;32m<ipython-input-35-6fd6050064ba>\u001b[0m in \u001b[0;36mmodelo_sir\u001b[0;34m(N, gamma_mine, Ro, t0)\u001b[0m\n\u001b[1;32m      7\u001b[0m \u001b[0;32mdef\u001b[0m \u001b[0mmodelo_sir\u001b[0m\u001b[0;34m(\u001b[0m\u001b[0mN\u001b[0m\u001b[0;34m,\u001b[0m \u001b[0mgamma_mine\u001b[0m\u001b[0;34m,\u001b[0m\u001b[0mRo\u001b[0m\u001b[0;34m,\u001b[0m \u001b[0mt0\u001b[0m\u001b[0;34m)\u001b[0m\u001b[0;34m:\u001b[0m\u001b[0;34m\u001b[0m\u001b[0;34m\u001b[0m\u001b[0m\n\u001b[1;32m      8\u001b[0m     \u001b[0mbeta_mine\u001b[0m \u001b[0;34m=\u001b[0m \u001b[0mgamma_mine\u001b[0m\u001b[0;34m*\u001b[0m\u001b[0mRo\u001b[0m\u001b[0;34m\u001b[0m\u001b[0;34m\u001b[0m\u001b[0m\n\u001b[0;32m----> 9\u001b[0;31m     \u001b[0mt_span\u001b[0m \u001b[0;34m=\u001b[0m\u001b[0mnp\u001b[0m\u001b[0;34m.\u001b[0m\u001b[0marange\u001b[0m\u001b[0;34m(\u001b[0m\u001b[0mt0\u001b[0m\u001b[0;34m,\u001b[0m\u001b[0mt0\u001b[0m\u001b[0;34m*\u001b[0m\u001b[0;36m10\u001b[0m\u001b[0;34m,\u001b[0m\u001b[0;36m1\u001b[0m\u001b[0;34m)\u001b[0m \u001b[0;31m# daily simulation\u001b[0m\u001b[0;34m\u001b[0m\u001b[0;34m\u001b[0m\u001b[0m\n\u001b[0m\u001b[1;32m     10\u001b[0m \u001b[0;34m\u001b[0m\u001b[0m\n\u001b[1;32m     11\u001b[0m     \u001b[0;31m# For initial conditions we suppose just 1 person is infected\u001b[0m\u001b[0;34m\u001b[0m\u001b[0;34m\u001b[0m\u001b[0;34m\u001b[0m\u001b[0m\n",
      "\u001b[0;31mValueError\u001b[0m: The truth value of an array with more than one element is ambiguous. Use a.any() or a.all()"
     ]
    }
   ],
   "source": [
    "# 1er punto\n",
    "\n",
    "gamma=1/3\n",
    "Ro=2\n",
    "t0=np.arange(0, 365, 7)\n",
    "N= 5.2e+07\n",
    "v=[]\n",
    "v.append(funcionverosimilitud(gamma, Ro, t0,N))"
   ]
  }
 ],
 "metadata": {
  "kernelspec": {
   "display_name": "Python 3",
   "language": "python",
   "name": "python3"
  },
  "language_info": {
   "codemirror_mode": {
    "name": "ipython",
    "version": 3
   },
   "file_extension": ".py",
   "mimetype": "text/x-python",
   "name": "python",
   "nbconvert_exporter": "python",
   "pygments_lexer": "ipython3",
   "version": "3.7.3"
  }
 },
 "nbformat": 4,
 "nbformat_minor": 2
}
