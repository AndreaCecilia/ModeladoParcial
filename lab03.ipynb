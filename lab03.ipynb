{
 "cells": [
  {
   "cell_type": "markdown",
   "metadata": {},
   "source": [
    "# Parcial 3 Modelado\n",
    "\n",
    "- ### Primer Punto\n",
    "    ### Modelo SIR\n",
    "   \n",
    "    $$\\frac{dS}{dt}=-\\beta \\frac{SI}{N}$$\n",
    "    $$\\frac{dI}{dt}=\\beta \\frac{SI}{N}-\\gamma I$$\n",
    "    $$\\frac{dR}{dt}=\\gamma I$$\n",
    "\n",
    "   "
   ]
  },
  {
   "cell_type": "code",
   "execution_count": 2,
   "metadata": {},
   "outputs": [],
   "source": [
    "import numpy as np\n",
    "from scipy.integrate import odeint\n",
    "import matplotlib.pyplot as plt\n",
    "import pandas as pd\n"
   ]
  },
  {
   "cell_type": "code",
   "execution_count": 3,
   "metadata": {},
   "outputs": [
    {
     "name": "stdout",
     "output_type": "stream",
     "text": [
      "47\n"
     ]
    }
   ],
   "source": [
    "#### Read data ####\n",
    "\n",
    "df = pd.read_csv('./influenza_data.csv')\n",
    "infected = df['AH1']+df['AH3']+df['A_untyped']+df['B']\n",
    "\n",
    "# just B influenza cases\n",
    "infected = df['B']\n",
    "\n",
    "time = df['week']\n",
    "\n",
    "time = time[7:]\n",
    "infected = infected[7:]\n",
    "print(time.iloc[0])"
   ]
  },
  {
   "cell_type": "code",
   "execution_count": 4,
   "metadata": {},
   "outputs": [
    {
     "data": {
      "text/plain": [
       "(None,\n",
       " <matplotlib.legend.Legend at 0x7f98c3338940>,\n",
       " Text(0.5, 1.0, 'Confirmed B influenza cases'))"
      ]
     },
     "execution_count": 4,
     "metadata": {},
     "output_type": "execute_result"
    },
    {
     "data": {
      "image/png": "[encoded data removed]",
      "text/plain": [
       "<Figure size 432x288 with 1 Axes>"
      ]
     },
     "metadata": {
      "needs_background": "light"
     },
     "output_type": "display_data"
    }
   ],
   "source": [
    "plt.plot(time,infected,'ro',label='Data')\n",
    "plt.xlabel('Week'), plt.ylabel('Incidence')\n",
    "plt.grid(), plt.legend(), plt.title('Confirmed B influenza cases')"
   ]
  },
  {
   "cell_type": "code",
   "execution_count": 7,
   "metadata": {},
   "outputs": [],
   "source": [
    "def SIR_model(state,time,beta,gamma, N):\n",
    "    S, I, R = state\n",
    "    dSdt = -beta*S*I/N\n",
    "    dIdt = beta*S*I/N - gamma*I\n",
    "    dRdt = gamma*I\n",
    "    return [dSdt,dIdt,dRdt]\n",
    "def modelo_sir(N, gamma_mine,Ro, t0):\n",
    "    beta_mine = gamma_mine*Ro \n",
    "    t_span =np.arange(t0,t0*10,1) # daily simulation\n",
    "\n",
    "    # For initial conditions we suppose just 1 person is infected\n",
    "    y0 = [N-1,1,0] #initial conditions \n",
    "    return(odeint(SIR_model, y0, t_span, args=(beta_mine, gamma_mine, N)) )#solve using ODE\n",
    "\n",
    "def log_likelihood(x_data,miu):\n",
    "    n=len(x_data)\n",
    "    var=(1/n)*np.sum((x_data-np.mean(x_data))**2)\n",
    "    if type(x_data)==list:\n",
    "        x_data=np.array(x_data)\n",
    "    l=(-n/2)*np.log(2*var*np.pi)- (1/(2*var))*np.sum((x_data-miu)**2)\n",
    "    return(l)\n",
    "\n",
    "def funcionverosimilitud(gamma, Ro, t0,N):\n",
    "    y=modelo_sir(N, gamma,Ro, t0) \n",
    "    beta= gamma*Ro \n",
    "    S = y[:,0]\n",
    "    I = y[:,1]\n",
    "    R = y[:,2]\n",
    "\n",
    "    t_span =np.arange(t0,t0*10,1)\n",
    "    kernel  = np.ones(7)\n",
    "    incidente_pred=[]\n",
    "    i=0\n",
    "    while i<len(S)-7:\n",
    "        incidente_pred.append(-(S[i+7]-S[i]))\n",
    "\n",
    "        i=i+7\n",
    "    incidente_pred = np.append(1,incidente_pred)\n",
    "    frac_confirmed = sum(infected)/sum(incidente_pred)\n",
    "    incidente_pred = incidente_pred*frac_confirmed\n",
    "    miu=np.mean(incidente_pred )\n",
    "    l=log_likelihood(infected,miu)\n",
    "    return(l)\n",
    "\n"
   ]
  },
  {
   "cell_type": "code",
   "execution_count": 15,
   "metadata": {},
   "outputs": [],
   "source": [
    "# 1er punto\n",
    "\n",
    "gamma=1/3\n",
    "Ro=2\n",
    "t0=np.arange(0, 100, 7)\n",
    "N= 5.2e+07\n",
    "v=[]\n",
    "for i in t0: \n",
    "    v.append(funcionverosimilitud(gamma, Ro, i,N))"
   ]
  },
  {
   "cell_type": "code",
   "execution_count": 16,
   "metadata": {},
   "outputs": [
    {
     "data": {
      "text/plain": [
       "<matplotlib.collections.PathCollection at 0x7f98c302ca58>"
      ]
     },
     "execution_count": 16,
     "metadata": {},
     "output_type": "execute_result"
    },
    {
     "data": {
      "image/png": "[encoded data removed]",
      "text/plain": [
       "<Figure size 432x288 with 1 Axes>"
      ]
     },
     "metadata": {
      "needs_background": "light"
     },
     "output_type": "display_data"
    }
   ],
   "source": [
    "plt.scatter(t0,v)"
   ]
  },
  {
   "cell_type": "code",
   "execution_count": null,
   "metadata": {},
   "outputs": [],
   "source": [
    "def proba_Q(xi, miu):\n",
    "    var=5\n",
    "    p = ((1/np.sqrt(var*2*np.pi))*np.exp(-(xi-miu)**2/(2*var)))\n",
    "    return(p)\n",
    "\n",
    "def likelihood(x_data,miu):\n",
    "    l=1\n",
    "    for x in x_data:\n",
    "        l = l * proba_Q(x, miu)\n",
    "    return(l)\n"
   ]
  }
 ],
 "metadata": {
  "kernelspec": {
   "display_name": "Python 3",
   "language": "python",
   "name": "python3"
  },
  "language_info": {
   "codemirror_mode": {
    "name": "ipython",
    "version": 3
   },
   "file_extension": ".py",
   "mimetype": "text/x-python",
   "name": "python",
   "nbconvert_exporter": "python",
   "pygments_lexer": "ipython3",
   "version": "3.7.3"
  }
 },
 "nbformat": 4,
 "nbformat_minor": 2
}
